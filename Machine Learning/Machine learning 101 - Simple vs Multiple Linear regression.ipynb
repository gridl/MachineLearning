{
 "cells": [
  {
   "cell_type": "markdown",
   "metadata": {},
   "source": [
    "### Simple Linear Regression:"
   ]
  },
  {
   "cell_type": "markdown",
   "metadata": {},
   "source": [
    "#### Definition:"
   ]
  },
  {
   "cell_type": "markdown",
   "metadata": {},
   "source": [
    "In statistics, [**linear regression**](https://en.wikipedia.org/wiki/Linear_regression) is a linear approach to modelling the relationship between a scalar response (or dependent variable) and one or more explanatory variables (or independent variables). The case of one explanatory variable is called simple linear regression."
   ]
  },
  {
   "cell_type": "markdown",
   "metadata": {},
   "source": [
    "#### Formula:"
   ]
  },
  {
   "cell_type": "markdown",
   "metadata": {},
   "source": [
    "$$Y = aX + b + \\epsilon$$"
   ]
  },
  {
   "cell_type": "markdown",
   "metadata": {},
   "source": [
    "> - With :\n",
    "    <br><br>\n",
    "    - $Y:$ Dependent variable\n",
    "    <br><br>\n",
    "    - $a:$ Slope\n",
    "    <br><br>\n",
    "    - $X:$ Independent variable\n",
    "    <br><br>\n",
    "    - $b:$ Intercept\n",
    "     <br><br>\n",
    "    - $\\epsilon:$ Random error\n",
    "    "
   ]
  },
  {
   "cell_type": "markdown",
   "metadata": {},
   "source": [
    "#### Graphical representation:"
   ]
  },
  {
   "cell_type": "markdown",
   "metadata": {},
   "source": [
    "![](https://cdn-images-1.medium.com/max/800/1*KwdVLH5e_P9h8hEzeIPnTg.png)\n"
   ]
  },
  {
   "cell_type": "markdown",
   "metadata": {},
   "source": [
    "#### Pythonic representaion:"
   ]
  },
  {
   "cell_type": "code",
   "execution_count": 1,
   "metadata": {
    "collapsed": true
   },
   "outputs": [],
   "source": [
    "%matplotlib inline\n",
    "import matplotlib.pyplot as plt\n",
    "import numpy as np"
   ]
  },
  {
   "cell_type": "code",
   "execution_count": 4,
   "metadata": {},
   "outputs": [
    {
     "data": {
      "text/plain": [
       "<matplotlib.text.Text at 0x9065940>"
      ]
     },
     "execution_count": 4,
     "metadata": {},
     "output_type": "execute_result"
    },
    {
     "data": {
      "image/png": "[encoded data removed]",
      "text/plain": [
       "<matplotlib.figure.Figure at 0x8cc4710>"
      ]
     },
     "metadata": {},
     "output_type": "display_data"
    }
   ],
   "source": [
    "X = np.random.randint(1, 10, 5)\n",
    "y = np.random.randint(1, 10, 5)\n",
    "plt.scatter(X, y, s = 100)\n",
    "plt.plot(X, np.polyval(np.polyfit(X,y,1), X), 'r-')\n",
    "plt.xlabel('X axis')\n",
    "plt.ylabel('y axis')\n",
    "plt.title('Simple linear regression')"
   ]
  },
  {
   "cell_type": "code",
   "execution_count": 5,
   "metadata": {},
   "outputs": [
    {
     "name": "stdout",
     "output_type": "stream",
     "text": [
      "[ -0.97169811  10.01886792]\n"
     ]
    }
   ],
   "source": [
    "print(np.polyfit(X,y,1)) # Slope and intercept of the linear regression line"
   ]
  },
  {
   "cell_type": "markdown",
   "metadata": {},
   "source": [
    "### Multiple Linear Regression:"
   ]
  },
  {
   "cell_type": "markdown",
   "metadata": {},
   "source": [
    "#### Definition:"
   ]
  },
  {
   "cell_type": "markdown",
   "metadata": {},
   "source": [
    "[**Multiple linear regression**](http://www.statisticssolutions.com/what-is-multiple-linear-regression/) is the most common form of linear regression analysis.  As a predictive analysis, the multiple linear regression is used to explain the relationship between one continuous dependent variable and two or more independent variables."
   ]
  },
  {
   "cell_type": "markdown",
   "metadata": {},
   "source": [
    "#### Formula:"
   ]
  },
  {
   "cell_type": "markdown",
   "metadata": {},
   "source": [
    "$$Y = a_1X_1 + a_2X_2 + . . . + a_nX_n + b + \\epsilon$$"
   ]
  },
  {
   "cell_type": "markdown",
   "metadata": {},
   "source": [
    "> - With :\n",
    "    <br><br>\n",
    "    - $Y:$ Dependent variable\n",
    "    <br><br>\n",
    "    - $a_i:$ Slope\n",
    "    <br><br>\n",
    "    - $X_i:$ Independent variable\n",
    "    <br><br>\n",
    "    - $b:$ Intercept\n",
    "     <br><br>\n",
    "    - $\\epsilon:$ Random error\n",
    "    "
   ]
  },
  {
   "cell_type": "markdown",
   "metadata": {},
   "source": [
    "### Linear Regression for Stock price prediction:"
   ]
  },
  {
   "cell_type": "markdown",
   "metadata": {},
   "source": [
    "#### Simple Linear regression:"
   ]
  },
  {
   "cell_type": "code",
   "execution_count": 6,
   "metadata": {
    "collapsed": true
   },
   "outputs": [],
   "source": [
    "import pandas as pd\n",
    "import seaborn; seaborn.set()\n",
    "from sklearn import linear_model\n",
    "from sklearn.linear_model import LinearRegression\n",
    "from sklearn.metrics import mean_squared_error, r2_score\n",
    "from math import sqrt"
   ]
  },
  {
   "cell_type": "code",
   "execution_count": 7,
   "metadata": {},
   "outputs": [
    {
     "data": {
      "text/html": [
       "<div>\n",
       "<style>\n",
       "    .dataframe thead tr:only-child th {\n",
       "        text-align: right;\n",
       "    }\n",
       "\n",
       "    .dataframe thead th {\n",
       "        text-align: left;\n",
       "    }\n",
       "\n",
       "    .dataframe tbody tr th {\n",
       "        vertical-align: top;\n",
       "    }\n",
       "</style>\n",
       "<table border=\"1\" class=\"dataframe\">\n",
       "  <thead>\n",
       "    <tr style=\"text-align: right;\">\n",
       "      <th></th>\n",
       "      <th>Date</th>\n",
       "      <th>Open</th>\n",
       "      <th>High</th>\n",
       "      <th>Low</th>\n",
       "      <th>Close</th>\n",
       "      <th>Adj Close</th>\n",
       "      <th>Volume</th>\n",
       "    </tr>\n",
       "  </thead>\n",
       "  <tbody>\n",
       "    <tr>\n",
       "      <th>0</th>\n",
       "      <td>2017-06-19</td>\n",
       "      <td>375.000000</td>\n",
       "      <td>376.700012</td>\n",
       "      <td>367.799988</td>\n",
       "      <td>369.799988</td>\n",
       "      <td>369.799988</td>\n",
       "      <td>6549300</td>\n",
       "    </tr>\n",
       "    <tr>\n",
       "      <th>1</th>\n",
       "      <td>2017-06-20</td>\n",
       "      <td>376.670013</td>\n",
       "      <td>378.880005</td>\n",
       "      <td>369.730011</td>\n",
       "      <td>372.239990</td>\n",
       "      <td>372.239990</td>\n",
       "      <td>7438700</td>\n",
       "    </tr>\n",
       "    <tr>\n",
       "      <th>2</th>\n",
       "      <td>2017-06-21</td>\n",
       "      <td>374.350006</td>\n",
       "      <td>376.989990</td>\n",
       "      <td>368.019989</td>\n",
       "      <td>376.399994</td>\n",
       "      <td>376.399994</td>\n",
       "      <td>4923200</td>\n",
       "    </tr>\n",
       "    <tr>\n",
       "      <th>3</th>\n",
       "      <td>2017-06-22</td>\n",
       "      <td>377.989990</td>\n",
       "      <td>385.000000</td>\n",
       "      <td>373.570007</td>\n",
       "      <td>382.609985</td>\n",
       "      <td>382.609985</td>\n",
       "      <td>7529800</td>\n",
       "    </tr>\n",
       "    <tr>\n",
       "      <th>4</th>\n",
       "      <td>2017-06-23</td>\n",
       "      <td>382.450012</td>\n",
       "      <td>386.989990</td>\n",
       "      <td>379.350006</td>\n",
       "      <td>383.450012</td>\n",
       "      <td>383.450012</td>\n",
       "      <td>6445800</td>\n",
       "    </tr>\n",
       "  </tbody>\n",
       "</table>\n",
       "</div>"
      ],
      "text/plain": [
       "         Date        Open        High         Low       Close   Adj Close  \\\n",
       "0  2017-06-19  375.000000  376.700012  367.799988  369.799988  369.799988   \n",
       "1  2017-06-20  376.670013  378.880005  369.730011  372.239990  372.239990   \n",
       "2  2017-06-21  374.350006  376.989990  368.019989  376.399994  376.399994   \n",
       "3  2017-06-22  377.989990  385.000000  373.570007  382.609985  382.609985   \n",
       "4  2017-06-23  382.450012  386.989990  379.350006  383.450012  383.450012   \n",
       "\n",
       "    Volume  \n",
       "0  6549300  \n",
       "1  7438700  \n",
       "2  4923200  \n",
       "3  7529800  \n",
       "4  6445800  "
      ]
     },
     "execution_count": 7,
     "metadata": {},
     "output_type": "execute_result"
    }
   ],
   "source": [
    "data = pd.read_csv(\"Downloads/TSLA.csv\")\n",
    "data.head()"
   ]
  },
  {
   "cell_type": "code",
   "execution_count": 8,
   "metadata": {},
   "outputs": [
    {
     "data": {
      "text/html": [
       "<div>\n",
       "<style>\n",
       "    .dataframe thead tr:only-child th {\n",
       "        text-align: right;\n",
       "    }\n",
       "\n",
       "    .dataframe thead th {\n",
       "        text-align: left;\n",
       "    }\n",
       "\n",
       "    .dataframe tbody tr th {\n",
       "        vertical-align: top;\n",
       "    }\n",
       "</style>\n",
       "<table border=\"1\" class=\"dataframe\">\n",
       "  <thead>\n",
       "    <tr style=\"text-align: right;\">\n",
       "      <th></th>\n",
       "      <th>Date</th>\n",
       "      <th>Open</th>\n",
       "      <th>High</th>\n",
       "      <th>Low</th>\n",
       "      <th>Close</th>\n",
       "      <th>Adj Close</th>\n",
       "      <th>Volume</th>\n",
       "    </tr>\n",
       "  </thead>\n",
       "  <tbody>\n",
       "    <tr>\n",
       "      <th>0</th>\n",
       "      <td>1</td>\n",
       "      <td>375.000000</td>\n",
       "      <td>376.700012</td>\n",
       "      <td>367.799988</td>\n",
       "      <td>369.799988</td>\n",
       "      <td>369.799988</td>\n",
       "      <td>6549300</td>\n",
       "    </tr>\n",
       "    <tr>\n",
       "      <th>1</th>\n",
       "      <td>2</td>\n",
       "      <td>376.670013</td>\n",
       "      <td>378.880005</td>\n",
       "      <td>369.730011</td>\n",
       "      <td>372.239990</td>\n",
       "      <td>372.239990</td>\n",
       "      <td>7438700</td>\n",
       "    </tr>\n",
       "    <tr>\n",
       "      <th>2</th>\n",
       "      <td>3</td>\n",
       "      <td>374.350006</td>\n",
       "      <td>376.989990</td>\n",
       "      <td>368.019989</td>\n",
       "      <td>376.399994</td>\n",
       "      <td>376.399994</td>\n",
       "      <td>4923200</td>\n",
       "    </tr>\n",
       "    <tr>\n",
       "      <th>3</th>\n",
       "      <td>4</td>\n",
       "      <td>377.989990</td>\n",
       "      <td>385.000000</td>\n",
       "      <td>373.570007</td>\n",
       "      <td>382.609985</td>\n",
       "      <td>382.609985</td>\n",
       "      <td>7529800</td>\n",
       "    </tr>\n",
       "    <tr>\n",
       "      <th>4</th>\n",
       "      <td>5</td>\n",
       "      <td>382.450012</td>\n",
       "      <td>386.989990</td>\n",
       "      <td>379.350006</td>\n",
       "      <td>383.450012</td>\n",
       "      <td>383.450012</td>\n",
       "      <td>6445800</td>\n",
       "    </tr>\n",
       "  </tbody>\n",
       "</table>\n",
       "</div>"
      ],
      "text/plain": [
       "   Date        Open        High         Low       Close   Adj Close   Volume\n",
       "0     1  375.000000  376.700012  367.799988  369.799988  369.799988  6549300\n",
       "1     2  376.670013  378.880005  369.730011  372.239990  372.239990  7438700\n",
       "2     3  374.350006  376.989990  368.019989  376.399994  376.399994  4923200\n",
       "3     4  377.989990  385.000000  373.570007  382.609985  382.609985  7529800\n",
       "4     5  382.450012  386.989990  379.350006  383.450012  383.450012  6445800"
      ]
     },
     "execution_count": 8,
     "metadata": {},
     "output_type": "execute_result"
    }
   ],
   "source": [
    "data[\"Date\"] = data.index + 1 # turn the date into a set of consecutive integers\n",
    "data.head()"
   ]
  },
  {
   "cell_type": "code",
   "execution_count": 9,
   "metadata": {
    "collapsed": true
   },
   "outputs": [],
   "source": [
    "# the training set\n",
    "X_train = data[\"Date\"][:-20].values.reshape(231, 1)\n",
    "y_train = data[\"Adj Close\"][:-20]"
   ]
  },
  {
   "cell_type": "code",
   "execution_count": 10,
   "metadata": {
    "collapsed": true
   },
   "outputs": [],
   "source": [
    "# the testing set\n",
    "X_test = data[\"Date\"][-20:].values.reshape(20, 1)\n",
    "y_test = data[\"Adj Close\"][-20:]"
   ]
  },
  {
   "cell_type": "code",
   "execution_count": 11,
   "metadata": {
    "collapsed": true
   },
   "outputs": [],
   "source": [
    "reg = LinearRegression()"
   ]
  },
  {
   "cell_type": "code",
   "execution_count": 12,
   "metadata": {},
   "outputs": [
    {
     "data": {
      "text/plain": [
       "LinearRegression(copy_X=True, fit_intercept=True, n_jobs=1, normalize=False)"
      ]
     },
     "execution_count": 12,
     "metadata": {},
     "output_type": "execute_result"
    }
   ],
   "source": [
    "# training the model\n",
    "reg.fit(X_train, y_train)"
   ]
  },
  {
   "cell_type": "code",
   "execution_count": 13,
   "metadata": {},
   "outputs": [
    {
     "data": {
      "text/plain": [
       "array([ 300.98268374,  300.73624546,  300.48980719,  300.24336891,\n",
       "        299.99693064,  299.75049237,  299.50405409,  299.25761582,\n",
       "        299.01117755,  298.76473927,  298.518301  ,  298.27186273,\n",
       "        298.02542445,  297.77898618,  297.5325479 ,  297.28610963,\n",
       "        297.03967136,  296.79323308,  296.54679481,  296.30035654])"
      ]
     },
     "execution_count": 13,
     "metadata": {},
     "output_type": "execute_result"
    }
   ],
   "source": [
    "# prediction\n",
    "prediction = reg.predict(X_test)\n",
    "prediction"
   ]
  },
  {
   "cell_type": "code",
   "execution_count": 14,
   "metadata": {},
   "outputs": [
    {
     "data": {
      "text/html": [
       "<div>\n",
       "<style>\n",
       "    .dataframe thead tr:only-child th {\n",
       "        text-align: right;\n",
       "    }\n",
       "\n",
       "    .dataframe thead th {\n",
       "        text-align: left;\n",
       "    }\n",
       "\n",
       "    .dataframe tbody tr th {\n",
       "        vertical-align: top;\n",
       "    }\n",
       "</style>\n",
       "<table border=\"1\" class=\"dataframe\">\n",
       "  <thead>\n",
       "    <tr style=\"text-align: right;\">\n",
       "      <th></th>\n",
       "      <th>Prediction</th>\n",
       "    </tr>\n",
       "  </thead>\n",
       "  <tbody>\n",
       "    <tr>\n",
       "      <th>0</th>\n",
       "      <td>369.799988</td>\n",
       "    </tr>\n",
       "    <tr>\n",
       "      <th>1</th>\n",
       "      <td>372.239990</td>\n",
       "    </tr>\n",
       "    <tr>\n",
       "      <th>2</th>\n",
       "      <td>376.399994</td>\n",
       "    </tr>\n",
       "    <tr>\n",
       "      <th>3</th>\n",
       "      <td>382.609985</td>\n",
       "    </tr>\n",
       "    <tr>\n",
       "      <th>4</th>\n",
       "      <td>383.450012</td>\n",
       "    </tr>\n",
       "  </tbody>\n",
       "</table>\n",
       "</div>"
      ],
      "text/plain": [
       "   Prediction\n",
       "0  369.799988\n",
       "1  372.239990\n",
       "2  376.399994\n",
       "3  382.609985\n",
       "4  383.450012"
      ]
     },
     "execution_count": 14,
     "metadata": {},
     "output_type": "execute_result"
    }
   ],
   "source": [
    "# concatenate the training set with the prediction result\n",
    "T_set = pd.DataFrame(y_train)\n",
    "T_set.columns = [\"Prediction\"]\n",
    "y_pred = pd.DataFrame(prediction, index = range(231, 251),\n",
    "                      columns = [\"Prediction\"])\n",
    "P_set = [T_set, y_pred]\n",
    "pd.concat(P_set).head()"
   ]
  },
  {
   "cell_type": "code",
   "execution_count": 15,
   "metadata": {
    "scrolled": true
   },
   "outputs": [
    {
     "data": {
      "text/plain": [
       "<matplotlib.legend.Legend at 0xc78b400>"
      ]
     },
     "execution_count": 15,
     "metadata": {},
     "output_type": "execute_result"
    },
    {
     "data": {
      "image/png": "[encoded data removed]",
      "text/plain": [
       "<matplotlib.figure.Figure at 0xc75e160>"
      ]
     },
     "metadata": {},
     "output_type": "display_data"
    }
   ],
   "source": [
    "# Graphical representation with matplotlib\n",
    "plt.figure(figsize=(8, 4))\n",
    "plt.plot(data[\"Adj Close\"], label=\"Past Prices\")\n",
    "plt.plot(y_test, label = \"Actual Prices\")\n",
    "plt.plot(pd.concat(P_set), label= \"Prediction\")\n",
    "plt.xlabel(\"Date\")\n",
    "plt.ylabel(\"Price\")\n",
    "plt.title(\"Tesla's stock prices\")\n",
    "plt.legend()\n",
    "# P.S: blue and red plots are on top of each other"
   ]
  },
  {
   "cell_type": "code",
   "execution_count": 16,
   "metadata": {},
   "outputs": [
    {
     "data": {
      "text/plain": [
       "29.8841457453188"
      ]
     },
     "execution_count": 16,
     "metadata": {},
     "output_type": "execute_result"
    }
   ],
   "source": [
    "# Root Mean Squared Error:\n",
    "RMSE = sqrt(mean_squared_error(y_true = y_test, y_pred = prediction))\n",
    "RMSE"
   ]
  },
  {
   "cell_type": "markdown",
   "metadata": {},
   "source": [
    "#### What's wrong with our prediction ?"
   ]
  },
  {
   "cell_type": "markdown",
   "metadata": {},
   "source": [
    "it's not a surprise that our prediction is far from being close to the testing data, mainly because the stock market is first and foremost a stochastic and highly volatile environement with unpredictable outcomes, in addition to that our linear regression is a simple one that only has a single variable which doesn't affect at all the price of Tesla stocks.\n",
    "So what's the solution then ?\n",
    "in the next section we will try Multiple Linear regression the most widely used type of regression Analysis."
   ]
  },
  {
   "cell_type": "markdown",
   "metadata": {},
   "source": [
    "#### Multiple linear regression:"
   ]
  },
  {
   "cell_type": "code",
   "execution_count": 22,
   "metadata": {
    "collapsed": true
   },
   "outputs": [],
   "source": [
    "features = [\"Date\", \"Open\", \"Volume\"]\n",
    "target = [\"Adj Close\"]"
   ]
  },
  {
   "cell_type": "code",
   "execution_count": 23,
   "metadata": {
    "collapsed": true
   },
   "outputs": [],
   "source": [
    "# the training set\n",
    "X_train = data[features][:-20]\n",
    "y_train = data[\"Adj Close\"][:-20]"
   ]
  },
  {
   "cell_type": "code",
   "execution_count": 24,
   "metadata": {
    "collapsed": true
   },
   "outputs": [],
   "source": [
    "# the testing set\n",
    "X_test = data[features][-20:]\n",
    "y_test = data[\"Adj Close\"][-20:]"
   ]
  },
  {
   "cell_type": "code",
   "execution_count": 25,
   "metadata": {},
   "outputs": [
    {
     "data": {
      "text/plain": [
       "LinearRegression(copy_X=True, fit_intercept=True, n_jobs=1, normalize=False)"
      ]
     },
     "execution_count": 25,
     "metadata": {},
     "output_type": "execute_result"
    }
   ],
   "source": [
    "reg.fit(X_train, y_train)"
   ]
  },
  {
   "cell_type": "code",
   "execution_count": 26,
   "metadata": {},
   "outputs": [
    {
     "data": {
      "text/plain": [
       "array([ 287.15643281,  283.67962476,  289.46395056,  281.28806572,\n",
       "        282.29453389,  281.67181599,  281.98433917,  285.7625377 ,\n",
       "        289.64842676,  288.5567967 ,  296.27587975,  298.94323062,\n",
       "        298.14555385,  313.23603268,  317.34049376,  319.17848559,\n",
       "        336.6181578 ,  341.70316343,  342.11941726,  347.7618869 ])"
      ]
     },
     "execution_count": 26,
     "metadata": {},
     "output_type": "execute_result"
    }
   ],
   "source": [
    "# prediction\n",
    "prediction = reg.predict(X_test)\n",
    "prediction"
   ]
  },
  {
   "cell_type": "code",
   "execution_count": 27,
   "metadata": {
    "collapsed": true
   },
   "outputs": [],
   "source": [
    "y_pred = pd.DataFrame(prediction, index = range(231, 251),\n",
    "                      columns = [\"Prediction\"])"
   ]
  },
  {
   "cell_type": "code",
   "execution_count": 28,
   "metadata": {},
   "outputs": [
    {
     "data": {
      "text/plain": [
       "<matplotlib.legend.Legend at 0x90ccc88>"
      ]
     },
     "execution_count": 28,
     "metadata": {},
     "output_type": "execute_result"
    },
    {
     "data": {
      "image/png": "[encoded data removed]",
      "text/plain": [
       "<matplotlib.figure.Figure at 0xc6a8710>"
      ]
     },
     "metadata": {},
     "output_type": "display_data"
    }
   ],
   "source": [
    "# Graphical representation with matplotlib\n",
    "plt.figure(figsize=(8, 4))\n",
    "plt.plot(data[\"Adj Close\"], label=\"Actual Prices\")\n",
    "plt.plot(y_pred, label= \"Prediction\")\n",
    "plt.xlabel(\"Date\")\n",
    "plt.ylabel(\"Price\")\n",
    "plt.title(\"Tesla's stock prices\")\n",
    "plt.legend()"
   ]
  },
  {
   "cell_type": "code",
   "execution_count": 29,
   "metadata": {},
   "outputs": [
    {
     "data": {
      "text/plain": [
       "8.700692891436779"
      ]
     },
     "execution_count": 29,
     "metadata": {},
     "output_type": "execute_result"
    }
   ],
   "source": [
    "# Root Mean Squared Error:\n",
    "RMSE = sqrt(mean_squared_error(y_true = y_test, y_pred = prediction))\n",
    "RMSE"
   ]
  },
  {
   "cell_type": "markdown",
   "metadata": {
    "collapsed": true
   },
   "source": [
    "#### Observation:"
   ]
  },
  {
   "cell_type": "markdown",
   "metadata": {},
   "source": [
    "the **Root Mean squared Error** has decreased dramatically after adding more variables to our model."
   ]
  },
  {
   "cell_type": "markdown",
   "metadata": {},
   "source": [
    "#### Conclusion:"
   ]
  },
  {
   "cell_type": "markdown",
   "metadata": {},
   "source": [
    "Linear regression isn't the best model for stock price prediction nor is it good for time series tasks ,even if our model performs well on the testing set it doesn't mean it will perform well in real world, predicting stock prices need more than 5 variables it sometimes need dozens if not hundreds of variables to get an accurate prediction of the market stock prices."
   ]
  }
 ],
 "metadata": {
  "kernelspec": {
   "display_name": "Python 3",
   "language": "python",
   "name": "python3"
  },
  "language_info": {
   "codemirror_mode": {
    "name": "ipython",
    "version": 3
   },
   "file_extension": ".py",
   "mimetype": "text/x-python",
   "name": "python",
   "nbconvert_exporter": "python",
   "pygments_lexer": "ipython3",
   "version": "3.6.3"
  }
 },
 "nbformat": 4,
 "nbformat_minor": 2
}
